{
 "cells": [
  {
   "cell_type": "code",
   "execution_count": 160,
   "metadata": {},
   "outputs": [],
   "source": [
    "import cv2\n",
    "import matplotlib.pyplot as plt\n",
    "import numpy as np"
   ]
  },
  {
   "cell_type": "code",
   "execution_count": 161,
   "metadata": {},
   "outputs": [
    {
     "data": {
      "image/png": "[encoded data removed]",
      "text/plain": [
       "<Figure size 1080x1080 with 3 Axes>"
      ]
     },
     "metadata": {
      "needs_background": "light"
     },
     "output_type": "display_data"
    }
   ],
   "source": [
    "im = cv2.imread(\"../input_data/objects.png\",0)\n",
    "im = (im>127).astype(np.uint8)\n",
    "kernel = np.ones((7,9))\n",
    "# kernel = cv2.getStructuringElement(cv2.MORPH_ELLIPSE,(7,7))\n",
    "im2 = cv2.dilate(im,kernel,iterations=1)\n",
    "solids = cv2.erode(im2,kernel,iterations=1)\n",
    "holes = solids - im\n",
    "holes = cv2.erode(holes,np.ones((6,6)),iterations=1)\n",
    "holes = cv2.dilate(holes,np.ones((6,6)),iterations=1)\n",
    "fig = plt.figure(figsize=(15,15))\n",
    "plt.subplot(131)\n",
    "plt.imshow(im,cmap='gray')\n",
    "plt.subplot(132)\n",
    "plt.imshow(solids,cmap='gray')\n",
    "plt.subplot(133)\n",
    "plt.imshow(holes,cmap='gray')\n",
    "plt.show()"
   ]
  },
  {
   "cell_type": "code",
   "execution_count": 162,
   "metadata": {},
   "outputs": [],
   "source": [
    "def fourConnComp(i,j,im,final,visited):\n",
    "    if(i<0 or i>=im.shape[0] or j<0 or j>=im.shape[1] or visited[i,j] == 1):\n",
    "        return 0\n",
    "    \n",
    "    visited[i,j] = 1\n",
    "    if(im[i,j] == 1):\n",
    "        final[i,j] = 1\n",
    "        fourConnComp(i+1,j,im,final,visited)\n",
    "        fourConnComp(i-1,j,im,final,visited)        \n",
    "        fourConnComp(i,j+1,im,final,visited)        \n",
    "        fourConnComp(i,j-1,im,final,visited)  \n",
    "    \n",
    "    return 0\n",
    "    "
   ]
  },
  {
   "cell_type": "code",
   "execution_count": 163,
   "metadata": {},
   "outputs": [],
   "source": [
    "def count_comp(temp,im2):\n",
    "    global c\n",
    "    h,w = temp.shape\n",
    "    final = np.zeros((temp.shape),dtype=np.uint16)\n",
    "    visited = np.zeros((temp.shape))\n",
    "    \n",
    "    c = 0\n",
    "    for i in range(h):\n",
    "        for j in range(w):\n",
    "            if(temp[i,j] == 1 and visited[i,j] == 0):\n",
    "                fourConnComp(i,j,im2,final,visited)\n",
    "                c = c+1\n",
    "    \n",
    "#     print(\"Objects with holes = \"+str(c))\n",
    "    return final"
   ]
  },
  {
   "cell_type": "code",
   "execution_count": 164,
   "metadata": {},
   "outputs": [
    {
     "name": "stdout",
     "output_type": "stream",
     "text": [
      "Objects with holes =  6\n"
     ]
    },
    {
     "data": {
      "text/plain": [
       "<matplotlib.image.AxesImage at 0x7f2c78f045c0>"
      ]
     },
     "execution_count": 164,
     "metadata": {},
     "output_type": "execute_result"
    },
    {
     "data": {
      "image/png": "[encoded data removed]",
      "text/plain": [
       "<Figure size 432x288 with 1 Axes>"
      ]
     },
     "metadata": {
      "needs_background": "light"
     },
     "output_type": "display_data"
    }
   ],
   "source": [
    "obj_with_holes = count_comp(holes,solids)\n",
    "# plt.imshow(final,cmap='gray')\n",
    "print(\"Objects with holes = \",c)\n",
    "final_holes = np.logical_and(obj_with_holes,im).astype(np.uint8)\n",
    "plt.imshow(final_holes,cmap='gray')"
   ]
  },
  {
   "cell_type": "code",
   "execution_count": 165,
   "metadata": {},
   "outputs": [],
   "source": [
    "def filtfunc(i,f):\n",
    "    k = f.shape[0] // 2\n",
    "    padded_im = np.pad(i,((k,k),(k,k)),'constant')\n",
    "    final = np.zeros(im.shape)\n",
    "#     print(f.size)\n",
    "    for i in range(k,final.shape[0]+k):\n",
    "        for j in range(k,final.shape[1]+k):\n",
    "            if np.sum(np.equal(padded_im[i-k:i+k+1,j-k:j+k+1], f)) == f.size:\n",
    "                final[i-k,j-k] = 1\n",
    "    return final\n",
    "        "
   ]
  },
  {
   "cell_type": "code",
   "execution_count": 166,
   "metadata": {},
   "outputs": [
    {
     "name": "stdout",
     "output_type": "stream",
     "text": [
      "Squares =  11\n"
     ]
    },
    {
     "data": {
      "text/plain": [
       "<matplotlib.image.AxesImage at 0x7f2c78e9b400>"
      ]
     },
     "execution_count": 166,
     "metadata": {},
     "output_type": "execute_result"
    },
    {
     "data": {
      "image/png": "[encoded data removed]",
      "text/plain": [
       "<Figure size 432x288 with 1 Axes>"
      ]
     },
     "metadata": {
      "needs_background": "light"
     },
     "output_type": "display_data"
    }
   ],
   "source": [
    "# se = np.array([[1,1,0],[1,1,0],[0,0,0]])\n",
    "# se = np.array([[1,1],[1,1]])\n",
    "se = np.array([[0,0,0],[0,1,1],[0,1,1]])\n",
    "\n",
    "squares = filtfunc(solids,se)\n",
    "# squares = cv2.morphologyEx(solids,cv2.MORPH_HITMISS,se)\n",
    "\n",
    "final_squares = count_comp(squares,solids)\n",
    "print(\"Squares = \",c)\n",
    "plt.imshow(final_squares,cmap='gray')"
   ]
  },
  {
   "cell_type": "code",
   "execution_count": 156,
   "metadata": {},
   "outputs": [
    {
     "name": "stdout",
     "output_type": "stream",
     "text": [
      "Squares with holes =  2\n"
     ]
    },
    {
     "data": {
      "text/plain": [
       "<matplotlib.image.AxesImage at 0x7f2c7ab1e320>"
      ]
     },
     "execution_count": 156,
     "metadata": {},
     "output_type": "execute_result"
    },
    {
     "data": {
      "image/png": "[encoded data removed]",
      "text/plain": [
       "<Figure size 432x288 with 1 Axes>"
      ]
     },
     "metadata": {
      "needs_background": "light"
     },
     "output_type": "display_data"
    }
   ],
   "source": [
    "hole_square = np.logical_and(final_squares,final_holes)\n",
    "count_comp(hole_square,hole_square)\n",
    "print(\"Squares with holes = \",c)\n",
    "plt.imshow(hole_square,cmap='gray')\n"
   ]
  },
  {
   "cell_type": "code",
   "execution_count": 157,
   "metadata": {},
   "outputs": [
    {
     "name": "stdout",
     "output_type": "stream",
     "text": [
      "Circles with no holes =  12\n"
     ]
    },
    {
     "data": {
      "text/plain": [
       "<matplotlib.image.AxesImage at 0x7f2c790327b8>"
      ]
     },
     "execution_count": 157,
     "metadata": {},
     "output_type": "execute_result"
    },
    {
     "data": {
      "image/png": "[encoded data removed]",
      "text/plain": [
       "<Figure size 432x288 with 1 Axes>"
      ]
     },
     "metadata": {
      "needs_background": "light"
     },
     "output_type": "display_data"
    }
   ],
   "source": [
    "no_holes = im - final_holes\n",
    "# plt.imshow(no_holes,cmap='gray')\n",
    "\n",
    "# se = cv2.getStructuringElement(cv2.MORPH_ELLIPSE,(5,5))\n",
    "se = np.array([[1,1,0],[1,1,0],[1,0,0]])\n",
    "# se = np.array([[0,1,1],[0,1,1],[0,0,1]])\n",
    "circles = filtfunc(no_holes ,se)\n",
    "final_circles = count_comp(circles,no_holes)\n",
    "print(\"Circles with no holes = \",c)\n",
    "plt.imshow(final_circles,cmap='gray')"
   ]
  },
  {
   "cell_type": "code",
   "execution_count": null,
   "metadata": {},
   "outputs": [],
   "source": []
  }
 ],
 "metadata": {
  "kernelspec": {
   "display_name": "Python 3",
   "language": "python",
   "name": "python3"
  },
  "language_info": {
   "codemirror_mode": {
    "name": "ipython",
    "version": 3
   },
   "file_extension": ".py",
   "mimetype": "text/x-python",
   "name": "python",
   "nbconvert_exporter": "python",
   "pygments_lexer": "ipython3",
   "version": "3.5.2"
  }
 },
 "nbformat": 4,
 "nbformat_minor": 2
}
